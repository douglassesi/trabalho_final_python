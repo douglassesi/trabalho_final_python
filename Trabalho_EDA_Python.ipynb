{
  "nbformat": 4,
  "nbformat_minor": 0,
  "metadata": {
    "kernelspec": {
      "name": "python3",
      "display_name": "Python 3"
    },
    "language_info": {
      "codemirror_mode": {
        "name": "ipython",
        "version": 3
      },
      "file_extension": ".py",
      "mimetype": "text/x-python",
      "name": "python",
      "nbconvert_exporter": "python",
      "pygments_lexer": "ipython3",
      "version": "3.7.5"
    },
    "colab": {
      "name": "Trabalho_EDA_Python.ipynb",
      "provenance": [],
      "include_colab_link": true
    },
    "accelerator": "GPU"
  },
  "cells": [
    {
      "cell_type": "markdown",
      "metadata": {
        "id": "view-in-github",
        "colab_type": "text"
      },
      "source": [
        "<a href=\"https://colab.research.google.com/github/douglassesi/trabalho_final_python/blob/douglas/Trabalho_EDA_Python.ipynb\" target=\"_parent\"><img src=\"https://colab.research.google.com/assets/colab-badge.svg\" alt=\"Open In Colab\"/></a>"
      ]
    },
    {
      "cell_type": "markdown",
      "metadata": {
        "id": "nj4TXkkweLyW",
        "colab_type": "text"
      },
      "source": [
        "# Trabalho Final - Análise de Dados com Python\n",
        "\n",
        "Integrantes:\n",
        "\n",
        "    1) Douglas Albuquerque\n",
        "    2) Gaston\n",
        "    3) Pedro\n",
        "    4) Vitor"
      ]
    },
    {
      "cell_type": "markdown",
      "metadata": {
        "id": "4OvqsPBweLyZ",
        "colab_type": "text"
      },
      "source": [
        "### Qual será seu trabalho aqui?\n",
        "\n",
        "Basicamente, vocês devem usar todo conhecimento que adquiriram durante o curo e criar um modelo de Regressão Linear cujo RMSE seja em torno de 69000, o que significa que o erro de predição é, em média, de 69000.\n",
        "Entretanto, para chegar a essa predição, uma série de análise e preparações nos dados devem ser feitas. Vocês devem fazer os todo's que aqui foram deixados a fim de chegar a esse valor numa regressão"
      ]
    },
    {
      "cell_type": "code",
      "metadata": {
        "id": "ikJ2xgzZekFy",
        "colab_type": "code",
        "outputId": "60f558e2-063c-4ea7-8c59-b2e2504b14d2",
        "colab": {
          "base_uri": "https://localhost:8080/",
          "height": 122
        }
      },
      "source": [
        "from google.colab import drive\n",
        "drive.mount('/content/drive')"
      ],
      "execution_count": 1,
      "outputs": [
        {
          "output_type": "stream",
          "text": [
            "Go to this URL in a browser: https://accounts.google.com/o/oauth2/auth?client_id=947318989803-6bn6qk8qdgf4n4g3pfee6491hc0brc4i.apps.googleusercontent.com&redirect_uri=urn%3aietf%3awg%3aoauth%3a2.0%3aoob&response_type=code&scope=email%20https%3a%2f%2fwww.googleapis.com%2fauth%2fdocs.test%20https%3a%2f%2fwww.googleapis.com%2fauth%2fdrive%20https%3a%2f%2fwww.googleapis.com%2fauth%2fdrive.photos.readonly%20https%3a%2f%2fwww.googleapis.com%2fauth%2fpeopleapi.readonly\n",
            "\n",
            "Enter your authorization code:\n",
            "··········\n",
            "Mounted at /content/drive\n"
          ],
          "name": "stdout"
        }
      ]
    },
    {
      "cell_type": "code",
      "metadata": {
        "id": "0bbPaFUVeLyb",
        "colab_type": "code",
        "colab": {}
      },
      "source": [
        "# todos os pacotes que serão utilizados foram importados\n",
        "# há alguns que não vimos em classe, mas parte do processo de avaliação entender como esses pacotes funcionam\n",
        "# na prática, são muito similares aos que vimos em sala\n",
        "import pandas as pd\n",
        "import numpy as np\n",
        "import matplotlib.pyplot as plt\n",
        "from sklearn.model_selection import train_test_split\n",
        "from sklearn.impute import SimpleImputer\n",
        "from sklearn.pipeline import Pipeline\n",
        "from sklearn.preprocessing import StandardScaler\n",
        "from sklearn.pipeline import FeatureUnion\n",
        "from sklearn.preprocessing import OrdinalEncoder\n",
        "from sklearn.linear_model import LinearRegression\n",
        "from sklearn.compose import ColumnTransformer"
      ],
      "execution_count": 0,
      "outputs": []
    },
    {
      "cell_type": "code",
      "metadata": {
        "id": "AXM6iDsjeLyj",
        "colab_type": "code",
        "outputId": "ec2610bb-b494-4270-fcfa-bf3f8012f13b",
        "colab": {
          "base_uri": "https://localhost:8080/",
          "height": 204
        }
      },
      "source": [
        "# leitura dos dados\n",
        "housing = pd.read_csv('/content/drive/My Drive/Datasets/housing.csv')\n",
        "housing.head()"
      ],
      "execution_count": 4,
      "outputs": [
        {
          "output_type": "execute_result",
          "data": {
            "text/html": [
              "<div>\n",
              "<style scoped>\n",
              "    .dataframe tbody tr th:only-of-type {\n",
              "        vertical-align: middle;\n",
              "    }\n",
              "\n",
              "    .dataframe tbody tr th {\n",
              "        vertical-align: top;\n",
              "    }\n",
              "\n",
              "    .dataframe thead th {\n",
              "        text-align: right;\n",
              "    }\n",
              "</style>\n",
              "<table border=\"1\" class=\"dataframe\">\n",
              "  <thead>\n",
              "    <tr style=\"text-align: right;\">\n",
              "      <th></th>\n",
              "      <th>longitude</th>\n",
              "      <th>latitude</th>\n",
              "      <th>housing_median_age</th>\n",
              "      <th>total_rooms</th>\n",
              "      <th>total_bedrooms</th>\n",
              "      <th>population</th>\n",
              "      <th>households</th>\n",
              "      <th>median_income</th>\n",
              "      <th>median_house_value</th>\n",
              "      <th>ocean_proximity</th>\n",
              "    </tr>\n",
              "  </thead>\n",
              "  <tbody>\n",
              "    <tr>\n",
              "      <th>0</th>\n",
              "      <td>-122.23</td>\n",
              "      <td>37.88</td>\n",
              "      <td>41.0</td>\n",
              "      <td>880.0</td>\n",
              "      <td>129.0</td>\n",
              "      <td>322.0</td>\n",
              "      <td>126.0</td>\n",
              "      <td>8.3252</td>\n",
              "      <td>452600.0</td>\n",
              "      <td>NEAR BAY</td>\n",
              "    </tr>\n",
              "    <tr>\n",
              "      <th>1</th>\n",
              "      <td>-122.22</td>\n",
              "      <td>37.86</td>\n",
              "      <td>21.0</td>\n",
              "      <td>7099.0</td>\n",
              "      <td>1106.0</td>\n",
              "      <td>2401.0</td>\n",
              "      <td>1138.0</td>\n",
              "      <td>8.3014</td>\n",
              "      <td>358500.0</td>\n",
              "      <td>NEAR BAY</td>\n",
              "    </tr>\n",
              "    <tr>\n",
              "      <th>2</th>\n",
              "      <td>-122.24</td>\n",
              "      <td>37.85</td>\n",
              "      <td>52.0</td>\n",
              "      <td>1467.0</td>\n",
              "      <td>190.0</td>\n",
              "      <td>496.0</td>\n",
              "      <td>177.0</td>\n",
              "      <td>7.2574</td>\n",
              "      <td>352100.0</td>\n",
              "      <td>NEAR BAY</td>\n",
              "    </tr>\n",
              "    <tr>\n",
              "      <th>3</th>\n",
              "      <td>-122.25</td>\n",
              "      <td>37.85</td>\n",
              "      <td>52.0</td>\n",
              "      <td>1274.0</td>\n",
              "      <td>235.0</td>\n",
              "      <td>558.0</td>\n",
              "      <td>219.0</td>\n",
              "      <td>5.6431</td>\n",
              "      <td>341300.0</td>\n",
              "      <td>NEAR BAY</td>\n",
              "    </tr>\n",
              "    <tr>\n",
              "      <th>4</th>\n",
              "      <td>-122.25</td>\n",
              "      <td>37.85</td>\n",
              "      <td>52.0</td>\n",
              "      <td>1627.0</td>\n",
              "      <td>280.0</td>\n",
              "      <td>565.0</td>\n",
              "      <td>259.0</td>\n",
              "      <td>3.8462</td>\n",
              "      <td>342200.0</td>\n",
              "      <td>NEAR BAY</td>\n",
              "    </tr>\n",
              "  </tbody>\n",
              "</table>\n",
              "</div>"
            ],
            "text/plain": [
              "   longitude  latitude  ...  median_house_value  ocean_proximity\n",
              "0    -122.23     37.88  ...            452600.0         NEAR BAY\n",
              "1    -122.22     37.86  ...            358500.0         NEAR BAY\n",
              "2    -122.24     37.85  ...            352100.0         NEAR BAY\n",
              "3    -122.25     37.85  ...            341300.0         NEAR BAY\n",
              "4    -122.25     37.85  ...            342200.0         NEAR BAY\n",
              "\n",
              "[5 rows x 10 columns]"
            ]
          },
          "metadata": {
            "tags": []
          },
          "execution_count": 4
        }
      ]
    },
    {
      "cell_type": "markdown",
      "metadata": {
        "id": "XUaHvAzdeLyn",
        "colab_type": "text"
      },
      "source": [
        "### TODO 1: Análise e visualização de dados\n",
        "\n",
        "    1) Use o método info e o método describe para entender como os dados se comportam\n",
        "    2) percebemos que existe uma coluna cujos valores são object. Quantos valores existem para cada atributo presente nessa coluna?\n",
        "    3) plote um histograma de cada coluna numérica para entender a distribuição dos dados. Use 50 bins e ajuste o tamanho das imagens para (20,15)\n",
        "\n",
        "O que você pode observar a partir dos histogramas? Os dados podem ser inseridos num algoritmo de machine learning da maneira que estão? Dica: não!! \n",
        "\n",
        "Tente descrever o motivo. "
      ]
    },
    {
      "cell_type": "code",
      "metadata": {
        "id": "8ejc4lvWeLyo",
        "colab_type": "code",
        "outputId": "d9631515-36f2-4701-8707-095f88498418",
        "colab": {
          "base_uri": "https://localhost:8080/",
          "height": 552
        }
      },
      "source": [
        "# resposta 1\n",
        "\n",
        "housing.info()\n",
        "housing.describe()"
      ],
      "execution_count": 5,
      "outputs": [
        {
          "output_type": "stream",
          "text": [
            "<class 'pandas.core.frame.DataFrame'>\n",
            "RangeIndex: 20640 entries, 0 to 20639\n",
            "Data columns (total 10 columns):\n",
            "longitude             20640 non-null float64\n",
            "latitude              20640 non-null float64\n",
            "housing_median_age    20640 non-null float64\n",
            "total_rooms           20640 non-null float64\n",
            "total_bedrooms        20433 non-null float64\n",
            "population            20640 non-null float64\n",
            "households            20640 non-null float64\n",
            "median_income         20640 non-null float64\n",
            "median_house_value    20640 non-null float64\n",
            "ocean_proximity       20640 non-null object\n",
            "dtypes: float64(9), object(1)\n",
            "memory usage: 1.6+ MB\n"
          ],
          "name": "stdout"
        },
        {
          "output_type": "execute_result",
          "data": {
            "text/html": [
              "<div>\n",
              "<style scoped>\n",
              "    .dataframe tbody tr th:only-of-type {\n",
              "        vertical-align: middle;\n",
              "    }\n",
              "\n",
              "    .dataframe tbody tr th {\n",
              "        vertical-align: top;\n",
              "    }\n",
              "\n",
              "    .dataframe thead th {\n",
              "        text-align: right;\n",
              "    }\n",
              "</style>\n",
              "<table border=\"1\" class=\"dataframe\">\n",
              "  <thead>\n",
              "    <tr style=\"text-align: right;\">\n",
              "      <th></th>\n",
              "      <th>longitude</th>\n",
              "      <th>latitude</th>\n",
              "      <th>housing_median_age</th>\n",
              "      <th>total_rooms</th>\n",
              "      <th>total_bedrooms</th>\n",
              "      <th>population</th>\n",
              "      <th>households</th>\n",
              "      <th>median_income</th>\n",
              "      <th>median_house_value</th>\n",
              "    </tr>\n",
              "  </thead>\n",
              "  <tbody>\n",
              "    <tr>\n",
              "      <th>count</th>\n",
              "      <td>20640.000000</td>\n",
              "      <td>20640.000000</td>\n",
              "      <td>20640.000000</td>\n",
              "      <td>20640.000000</td>\n",
              "      <td>20433.000000</td>\n",
              "      <td>20640.000000</td>\n",
              "      <td>20640.000000</td>\n",
              "      <td>20640.000000</td>\n",
              "      <td>20640.000000</td>\n",
              "    </tr>\n",
              "    <tr>\n",
              "      <th>mean</th>\n",
              "      <td>-119.569704</td>\n",
              "      <td>35.631861</td>\n",
              "      <td>28.639486</td>\n",
              "      <td>2635.763081</td>\n",
              "      <td>537.870553</td>\n",
              "      <td>1425.476744</td>\n",
              "      <td>499.539680</td>\n",
              "      <td>3.870671</td>\n",
              "      <td>206855.816909</td>\n",
              "    </tr>\n",
              "    <tr>\n",
              "      <th>std</th>\n",
              "      <td>2.003532</td>\n",
              "      <td>2.135952</td>\n",
              "      <td>12.585558</td>\n",
              "      <td>2181.615252</td>\n",
              "      <td>421.385070</td>\n",
              "      <td>1132.462122</td>\n",
              "      <td>382.329753</td>\n",
              "      <td>1.899822</td>\n",
              "      <td>115395.615874</td>\n",
              "    </tr>\n",
              "    <tr>\n",
              "      <th>min</th>\n",
              "      <td>-124.350000</td>\n",
              "      <td>32.540000</td>\n",
              "      <td>1.000000</td>\n",
              "      <td>2.000000</td>\n",
              "      <td>1.000000</td>\n",
              "      <td>3.000000</td>\n",
              "      <td>1.000000</td>\n",
              "      <td>0.499900</td>\n",
              "      <td>14999.000000</td>\n",
              "    </tr>\n",
              "    <tr>\n",
              "      <th>25%</th>\n",
              "      <td>-121.800000</td>\n",
              "      <td>33.930000</td>\n",
              "      <td>18.000000</td>\n",
              "      <td>1447.750000</td>\n",
              "      <td>296.000000</td>\n",
              "      <td>787.000000</td>\n",
              "      <td>280.000000</td>\n",
              "      <td>2.563400</td>\n",
              "      <td>119600.000000</td>\n",
              "    </tr>\n",
              "    <tr>\n",
              "      <th>50%</th>\n",
              "      <td>-118.490000</td>\n",
              "      <td>34.260000</td>\n",
              "      <td>29.000000</td>\n",
              "      <td>2127.000000</td>\n",
              "      <td>435.000000</td>\n",
              "      <td>1166.000000</td>\n",
              "      <td>409.000000</td>\n",
              "      <td>3.534800</td>\n",
              "      <td>179700.000000</td>\n",
              "    </tr>\n",
              "    <tr>\n",
              "      <th>75%</th>\n",
              "      <td>-118.010000</td>\n",
              "      <td>37.710000</td>\n",
              "      <td>37.000000</td>\n",
              "      <td>3148.000000</td>\n",
              "      <td>647.000000</td>\n",
              "      <td>1725.000000</td>\n",
              "      <td>605.000000</td>\n",
              "      <td>4.743250</td>\n",
              "      <td>264725.000000</td>\n",
              "    </tr>\n",
              "    <tr>\n",
              "      <th>max</th>\n",
              "      <td>-114.310000</td>\n",
              "      <td>41.950000</td>\n",
              "      <td>52.000000</td>\n",
              "      <td>39320.000000</td>\n",
              "      <td>6445.000000</td>\n",
              "      <td>35682.000000</td>\n",
              "      <td>6082.000000</td>\n",
              "      <td>15.000100</td>\n",
              "      <td>500001.000000</td>\n",
              "    </tr>\n",
              "  </tbody>\n",
              "</table>\n",
              "</div>"
            ],
            "text/plain": [
              "          longitude      latitude  ...  median_income  median_house_value\n",
              "count  20640.000000  20640.000000  ...   20640.000000        20640.000000\n",
              "mean    -119.569704     35.631861  ...       3.870671       206855.816909\n",
              "std        2.003532      2.135952  ...       1.899822       115395.615874\n",
              "min     -124.350000     32.540000  ...       0.499900        14999.000000\n",
              "25%     -121.800000     33.930000  ...       2.563400       119600.000000\n",
              "50%     -118.490000     34.260000  ...       3.534800       179700.000000\n",
              "75%     -118.010000     37.710000  ...       4.743250       264725.000000\n",
              "max     -114.310000     41.950000  ...      15.000100       500001.000000\n",
              "\n",
              "[8 rows x 9 columns]"
            ]
          },
          "metadata": {
            "tags": []
          },
          "execution_count": 5
        }
      ]
    },
    {
      "cell_type": "code",
      "metadata": {
        "id": "RLSxcSh4eLys",
        "colab_type": "code",
        "colab": {}
      },
      "source": [
        "# resposta 2\n",
        "\n",
        "housing['ocean_proximity'].value_counts()\n"
      ],
      "execution_count": 0,
      "outputs": []
    },
    {
      "cell_type": "code",
      "metadata": {
        "id": "aN0RHgd0eLyw",
        "colab_type": "code",
        "colab": {}
      },
      "source": [
        "# resposta 3\n",
        "\n",
        "housing.hist(bins=50, color='blue')\n",
        "plt.figure(figsize=(20,15))"
      ],
      "execution_count": 0,
      "outputs": []
    },
    {
      "cell_type": "markdown",
      "metadata": {
        "id": "tgqwUEmpeLy1",
        "colab_type": "text"
      },
      "source": [
        "### TODO 2: Criando conjunto de treino e teste\n",
        "    4) utilizando train_test_split, da Scikit-Learn, separe o conjunto em treino e teste. utilize train_set e test_set como nome de variáveis, separe 20% para conjunto de teste e utilize 42 como random_state"
      ]
    },
    {
      "cell_type": "code",
      "metadata": {
        "colab_type": "code",
        "id": "A8xFQRugi8xP",
        "colab": {}
      },
      "source": [
        "# resposta 4\n",
        "\n",
        "\n",
        "split_size = 0.2\n",
        "train_set, test_set = train_test_split(housing, test_size=split_size, random_state=42)\n"
      ],
      "execution_count": 0,
      "outputs": []
    },
    {
      "cell_type": "markdown",
      "metadata": {
        "id": "ezzGIjLIeLy5",
        "colab_type": "text"
      },
      "source": [
        "### TODO 3: Correlação e visualização\n",
        "\n",
        "    5) Quais as variáveis que mais possuem correlação com o atributo median_house_value?\n",
        "    6) Utilize scatter_matrix, do pandas para visualizar a correlação do atributo median_house_value com os atributos que possuem maior correlação com ele. Ajuste o tamanho das imagens para (12, 8)"
      ]
    },
    {
      "cell_type": "code",
      "metadata": {
        "id": "lcTcXwi6eLy6",
        "colab_type": "code",
        "colab": {}
      },
      "source": [
        "# resposta 5\n",
        "\n",
        "import seaborn as sns\n",
        "plt.figure(figsize=(12,10))\n",
        "cor = housing.corr()\n",
        "sns.heatmap(cor, annot=True, cmap=plt.cm.Reds)\n",
        "plt.show()"
      ],
      "execution_count": 0,
      "outputs": []
    },
    {
      "cell_type": "code",
      "metadata": {
        "id": "N4JV_gpZeLy9",
        "colab_type": "code",
        "colab": {}
      },
      "source": [
        "# resposta 6\n",
        "\n",
        "pd.plotting.scatter_matrix(housing, diagonal='kde')"
      ],
      "execution_count": 0,
      "outputs": []
    },
    {
      "cell_type": "markdown",
      "metadata": {
        "id": "xzkqD8nWeLy_",
        "colab_type": "text"
      },
      "source": [
        "### TODO 4: Limpeza de dados\n",
        "\n",
        "Ao usar o método info(), descobrimos que existem alguns dados faltantes no nosso algoritmo. A partir daqui, a variável housing será o conteúdo de train_set, excluindo-se a coluna meta (median_house_value).  Atribua para a variável housing_labels uma cópia de train_set só com informações da coluna meta\n",
        "\n",
        "    7) use simpleImputer para tratar os valores faltantes. Escolha a estratégia que achar mais conveniente"
      ]
    },
    {
      "cell_type": "code",
      "metadata": {
        "id": "blYNyKt-eLzB",
        "colab_type": "code",
        "colab": {}
      },
      "source": [
        "# resposta 7\n",
        "\n",
        "#Quantidade de linhas em branco no dataset\n",
        "vazios = housing.isnull().sum(axis = 0)\n",
        "\n",
        "print('Colunas que possuem linhas vazias: ',vazios)"
      ],
      "execution_count": 0,
      "outputs": []
    },
    {
      "cell_type": "code",
      "metadata": {
        "id": "vr28UmqZP5GF",
        "colab_type": "code",
        "outputId": "af03942e-1c8e-4808-a62c-067c782ae2bf",
        "colab": {
          "base_uri": "https://localhost:8080/",
          "height": 204
        }
      },
      "source": [
        "# resposta 7 (continuação)\n",
        "\n",
        "housing_labels = train_set\n",
        "\n",
        "imputer = SimpleImputer(missing_values=np.nan, strategy='median')\n",
        "\n",
        "\n",
        "housing_labels.isnull().sum(axis = 0)\n",
        "#housing_labels.describe()"
      ],
      "execution_count": 7,
      "outputs": [
        {
          "output_type": "execute_result",
          "data": {
            "text/plain": [
              "longitude             0\n",
              "latitude              0\n",
              "housing_median_age    0\n",
              "total_rooms           0\n",
              "total_bedrooms        0\n",
              "population            0\n",
              "households            0\n",
              "median_income         0\n",
              "median_house_value    0\n",
              "ocean_proximity       0\n",
              "dtype: int64"
            ]
          },
          "metadata": {
            "tags": []
          },
          "execution_count": 7
        }
      ]
    },
    {
      "cell_type": "markdown",
      "metadata": {
        "id": "wrYGxTA-eLzI",
        "colab_type": "text"
      },
      "source": [
        "### TODO 4: Manipulação de Atributos categóricos\n",
        "    7) Utilizando OrdinalEncoder, manipule os valores categóricos para preparar os dados corretamente para algoritmos de machine learning"
      ]
    },
    {
      "cell_type": "code",
      "metadata": {
        "id": "Z9xSs6WoeLzM",
        "colab_type": "code",
        "outputId": "456b09ef-5a17-465b-f94e-743a1bc9b013",
        "colab": {
          "base_uri": "https://localhost:8080/",
          "height": 198
        }
      },
      "source": [
        "# resposta 7\n",
        "encoder = OrdinalEncoder()\n",
        "housing_labels.ocean_proximity =encoder.fit_transform(housing_labels.ocean_proximity.values.reshape(-1, 1))\n",
        "housing_labels.head()"
      ],
      "execution_count": 44,
      "outputs": [
        {
          "output_type": "error",
          "ename": "AttributeError",
          "evalue": "ignored",
          "traceback": [
            "\u001b[0;31m---------------------------------------------------------------------------\u001b[0m",
            "\u001b[0;31mAttributeError\u001b[0m                            Traceback (most recent call last)",
            "\u001b[0;32m<ipython-input-44-7ed8776af84a>\u001b[0m in \u001b[0;36m<module>\u001b[0;34m()\u001b[0m\n\u001b[1;32m      1\u001b[0m \u001b[0mencoder\u001b[0m \u001b[0;34m=\u001b[0m \u001b[0mOrdinalEncoder\u001b[0m\u001b[0;34m(\u001b[0m\u001b[0;34m)\u001b[0m\u001b[0;34m\u001b[0m\u001b[0;34m\u001b[0m\u001b[0m\n\u001b[0;32m----> 2\u001b[0;31m \u001b[0mhousing_labels\u001b[0m\u001b[0;34m.\u001b[0m\u001b[0mocean_proximity\u001b[0m \u001b[0;34m=\u001b[0m\u001b[0mencoder\u001b[0m\u001b[0;34m.\u001b[0m\u001b[0mfit_transform\u001b[0m\u001b[0;34m(\u001b[0m\u001b[0mhousing_labels\u001b[0m\u001b[0;34m.\u001b[0m\u001b[0mocean_proximity\u001b[0m\u001b[0;34m.\u001b[0m\u001b[0mvalues\u001b[0m\u001b[0;34m.\u001b[0m\u001b[0mreshape\u001b[0m\u001b[0;34m(\u001b[0m\u001b[0;36m1\u001b[0m\u001b[0;34m)\u001b[0m\u001b[0;34m)\u001b[0m\u001b[0;34m\u001b[0m\u001b[0;34m\u001b[0m\u001b[0m\n\u001b[0m\u001b[1;32m      3\u001b[0m \u001b[0mhousing_labels\u001b[0m\u001b[0;34m.\u001b[0m\u001b[0mhead\u001b[0m\u001b[0;34m(\u001b[0m\u001b[0;34m)\u001b[0m\u001b[0;34m\u001b[0m\u001b[0;34m\u001b[0m\u001b[0m\n",
            "\u001b[0;31mAttributeError\u001b[0m: 'numpy.ndarray' object has no attribute 'ocean_proximity'"
          ]
        }
      ]
    },
    {
      "cell_type": "markdown",
      "metadata": {
        "id": "MrA0-C64eLzO",
        "colab_type": "text"
      },
      "source": [
        "### TODO 5: Feature Normalization\n",
        "\n",
        "Com algumas poucas exceções, algoritmos de machine learning não performam bem quando os atributos numéricos possuem escalas diferentes. Este é o caso de nosso dataset, em que o atributo total_rooms possui um range de 6 a 39320 enquanto median_income varia de 0.5 a 15.\n",
        "\n",
        "Existem duas abordagens conhecidas para trazer os atributos para uma mesma escala: min-max scaling e standardization. \n",
        "\n",
        "min-max scaling (normalization) consiste em subtratir o valor minimo e dividir pela subtração de max por min:\n",
        "\n",
        "\\begin{align}\n",
        "x = \\frac{x - min}{max - min}\n",
        "\\end{align}\n",
        "\n",
        "A Scikit-Learn provê o método MinMaxScaler que realiza essa operação. \n",
        "\n",
        "Já standardization consiste em subtrair a média(valores sempre terao média zero) e então dividir pela variância de modo que a distribuição resultante possua variância unitária. \n",
        "\n",
        "\\begin{align}\n",
        "x = \\frac{x - \\mu}{\\sigma}\n",
        "\\end{align}\n",
        "\n",
        "Diferentemente de normalization, standardization não leva os números a um intervalo específico, o que pode ser um problema para algoritmos específicos (por exemplo, redes neurais geralmente esperam um valor de entrada entre o intervalo 0-1). Entretanto, standdardization é muito menos sensível à outiliers. Scikit-learn provêo método StandardScaler para standardization. \n",
        "\n",
        "    8) Adeque os valores de cada coluna numérica para que eles fiquem normalizados. Use o método que achar mais conveniente"
      ]
    },
    {
      "cell_type": "code",
      "metadata": {
        "id": "eRxz-v9_eLzO",
        "colab_type": "code",
        "colab": {}
      },
      "source": [
        "# resposta 8\n",
        "\n",
        "scaler = StandardScaler()\n",
        "housing_labels = scaler.fit_transform(housing_labels)\n"
      ],
      "execution_count": 0,
      "outputs": []
    },
    {
      "cell_type": "markdown",
      "metadata": {
        "id": "hjUsKMlOeLzR",
        "colab_type": "text"
      },
      "source": [
        "### TODO 6: Pipeline de Transformação\n",
        "    9) crie um pipeline de transformação para tratar os atributos numéricos, outro para tratar os atributos categóricos e um para juntar os dois e preparar todos os dados para entrada num algoritmo de machine learning. Caso queira, pode usar a classe DataFrameSelector vista na aula 4 (recomendável). A variável de saída desse algoritmo deverá se chamar housing_prepared\n"
      ]
    },
    {
      "cell_type": "code",
      "metadata": {
        "id": "PiJo2HLCBl-q",
        "colab_type": "code",
        "colab": {}
      },
      "source": [
        "cat_attribs = ['ocean_proximity']\n",
        "data_num = housing.drop(['ocean_proximity'],axis=1)\n",
        "\n",
        "num_attribs = list(data_num)"
      ],
      "execution_count": 0,
      "outputs": []
    },
    {
      "cell_type": "code",
      "metadata": {
        "id": "bgT6ioSkeLzR",
        "colab_type": "code",
        "colab": {
          "base_uri": "https://localhost:8080/",
          "height": 238
        },
        "outputId": "b14165eb-aae7-4867-a732-0ebe0b935220"
      },
      "source": [
        "# resposta 9\n",
        "\n",
        "\n",
        "from sklearn.pipeline import FeatureUnion\n",
        "from sklearn.preprocessing import OrdinalEncoder #skl 0.20>\n",
        "\n",
        "from sklearn.base import BaseEstimator, TransformerMixin\n",
        "class DataFrameSelector(BaseEstimator, TransformerMixin):\n",
        "    def __init__(self, attribute_names):\n",
        "        self.attribute_names = attribute_names\n",
        "    def fit(self, X, y=None):\n",
        "        return self\n",
        "    def transform(self, X):\n",
        "        return X[self.attribute_names].values\n",
        "\n",
        "num_pipeline = Pipeline([\n",
        "    ('selector', DataFrameSelector(num_attribs)),\n",
        "    ('imputer', SimpleImputer(missing_values=np.nan, strategy='median')),\n",
        "])\n",
        "cat_pipeline = Pipeline([\n",
        "    ('selector', DataFrameSelector(cat_attribs)),\n",
        "    ('categorial_encoder', OrdinalEncoder())\n",
        "    ])\n",
        "full_pipeline = FeatureUnion(transformer_list=[\n",
        "    (\"num_pipeline\", num_pipeline),\n",
        "    (\"cat_pipeline\", cat_pipeline),\n",
        "])\n",
        "\n",
        "housing_prepared = full_pipeline.fit_transform(housing)\n",
        "\n",
        "housing_prepared\n"
      ],
      "execution_count": 34,
      "outputs": [
        {
          "output_type": "execute_result",
          "data": {
            "text/plain": [
              "array([[-1.2223e+02,  3.7880e+01,  4.1000e+01, ...,  8.3252e+00,\n",
              "         4.5260e+05,  3.0000e+00],\n",
              "       [-1.2222e+02,  3.7860e+01,  2.1000e+01, ...,  8.3014e+00,\n",
              "         3.5850e+05,  3.0000e+00],\n",
              "       [-1.2224e+02,  3.7850e+01,  5.2000e+01, ...,  7.2574e+00,\n",
              "         3.5210e+05,  3.0000e+00],\n",
              "       ...,\n",
              "       [-1.2122e+02,  3.9430e+01,  1.7000e+01, ...,  1.7000e+00,\n",
              "         9.2300e+04,  1.0000e+00],\n",
              "       [-1.2132e+02,  3.9430e+01,  1.8000e+01, ...,  1.8672e+00,\n",
              "         8.4700e+04,  1.0000e+00],\n",
              "       [-1.2124e+02,  3.9370e+01,  1.6000e+01, ...,  2.3886e+00,\n",
              "         8.9400e+04,  1.0000e+00]])"
            ]
          },
          "metadata": {
            "tags": []
          },
          "execution_count": 34
        }
      ]
    },
    {
      "cell_type": "markdown",
      "metadata": {
        "id": "Var2rpg_eLzV",
        "colab_type": "text"
      },
      "source": [
        "### TODO 7: Regressão Linear\n",
        "\n",
        "    10) Ajuste uma regressão linear aos dados. Utilize a versão da Scikit-Learn"
      ]
    },
    {
      "cell_type": "code",
      "metadata": {
        "id": "oYqKDqBGeLzW",
        "colab_type": "code",
        "colab": {
          "base_uri": "https://localhost:8080/",
          "height": 286
        },
        "outputId": "6bab2ed2-be62-4fd4-a18d-782a6d8a39a6"
      },
      "source": [
        "# resposta 10\n",
        "\n",
        "#selecionando as colunas serem usadas como features para treinar o modelo\n",
        "#selecionando a coluna meta, ou seja, aquela que eu quero predizer\n",
        "feature_col = ['longitude','latitude','housing_median_age','total_rooms','total_bedrooms','population',\t'households','median_income','ocean_proximity']\n",
        "meta_col = ['median_house_value']\n",
        "\n",
        "X = housing_labels[feature_col].values\n",
        "y = housing_labels[meta_col].values.ravel()\n",
        "\n",
        "#adicionando nova coluna para multiplicação\n",
        "ones = np.ones([X.shape[0],1])\n",
        "X = np.concatenate((ones, X), axis=1)\n",
        "m, n = np.shape(X) #quantidade de amostras x quantidade de características\n",
        "\n",
        "split_test_size = 0.30\n",
        "X_train, X_test, y_train, y_test = train_test_split(X, y, test_size=split_test_size, random_state=42)\n",
        "\n",
        "\n",
        "\n",
        "\n",
        "regr = LinearRegression() # cria o modelo\n",
        "regr.fit(X_train, y_train) # treina o modelo\n",
        "\n",
        "r2_train = regr.score(X_train, y_train)\n",
        "r2_test = regr.score(X_test, y_test)\n",
        "print('R2 no set de treino: %.2f' % r2_train)\n",
        "print('R2 no set de teste: %.2f' % r2_test)"
      ],
      "execution_count": 51,
      "outputs": [
        {
          "output_type": "stream",
          "text": [
            "/usr/local/lib/python3.6/dist-packages/ipykernel_launcher.py:4: FutureWarning: Using a non-tuple sequence for multidimensional indexing is deprecated; use `arr[tuple(seq)]` instead of `arr[seq]`. In the future this will be interpreted as an array index, `arr[np.array(seq)]`, which will result either in an error or a different result.\n",
            "  after removing the cwd from sys.path.\n"
          ],
          "name": "stderr"
        },
        {
          "output_type": "error",
          "ename": "IndexError",
          "evalue": "ignored",
          "traceback": [
            "\u001b[0;31m---------------------------------------------------------------------------\u001b[0m",
            "\u001b[0;31mIndexError\u001b[0m                                Traceback (most recent call last)",
            "\u001b[0;32m<ipython-input-51-e09475a38fd3>\u001b[0m in \u001b[0;36m<module>\u001b[0;34m()\u001b[0m\n\u001b[1;32m      2\u001b[0m \u001b[0mmeta_col\u001b[0m \u001b[0;34m=\u001b[0m \u001b[0;34m[\u001b[0m\u001b[0;34m'median_house_value'\u001b[0m\u001b[0;34m]\u001b[0m\u001b[0;34m\u001b[0m\u001b[0;34m\u001b[0m\u001b[0m\n\u001b[1;32m      3\u001b[0m \u001b[0;34m\u001b[0m\u001b[0m\n\u001b[0;32m----> 4\u001b[0;31m \u001b[0mX\u001b[0m \u001b[0;34m=\u001b[0m \u001b[0mhousing_labels\u001b[0m\u001b[0;34m[\u001b[0m\u001b[0mfeature_col\u001b[0m\u001b[0;34m]\u001b[0m\u001b[0;34m.\u001b[0m\u001b[0mvalues\u001b[0m\u001b[0;34m\u001b[0m\u001b[0;34m\u001b[0m\u001b[0m\n\u001b[0m\u001b[1;32m      5\u001b[0m \u001b[0my\u001b[0m \u001b[0;34m=\u001b[0m \u001b[0mhousing_labels\u001b[0m\u001b[0;34m[\u001b[0m\u001b[0mmeta_col\u001b[0m\u001b[0;34m]\u001b[0m\u001b[0;34m.\u001b[0m\u001b[0mvalues\u001b[0m\u001b[0;34m.\u001b[0m\u001b[0mravel\u001b[0m\u001b[0;34m(\u001b[0m\u001b[0;34m)\u001b[0m\u001b[0;34m\u001b[0m\u001b[0;34m\u001b[0m\u001b[0m\n\u001b[1;32m      6\u001b[0m \u001b[0;34m\u001b[0m\u001b[0m\n",
            "\u001b[0;31mIndexError\u001b[0m: only integers, slices (`:`), ellipsis (`...`), numpy.newaxis (`None`) and integer or boolean arrays are valid indices"
          ]
        }
      ]
    },
    {
      "cell_type": "code",
      "metadata": {
        "id": "p9K11hjyeLzZ",
        "colab_type": "code",
        "outputId": "925ef215-e777-4248-de2a-cd478e620e73",
        "colab": {
          "base_uri": "https://localhost:8080/",
          "height": 232
        }
      },
      "source": [
        "# Apenas para testar seu resultado\n",
        "some_data = housing.iloc[:5] # dados para predizer\n",
        "some_labels = housing_labels.iloc[:5] # rótulos dos dados acima\n",
        "some_data_prepared = full_pipeline.transform(some_data) # transformação dos dados (considerando que seu pipeline tenha esse nome)\n",
        "print(\"Predictions:\\t\", lin_reg.predict(some_data_prepared)) # predizendo\n",
        "print(\"Labels:\\t\\t\", list(some_labels)) # valores corretos"
      ],
      "execution_count": 41,
      "outputs": [
        {
          "output_type": "error",
          "ename": "AttributeError",
          "evalue": "ignored",
          "traceback": [
            "\u001b[0;31m---------------------------------------------------------------------------\u001b[0m",
            "\u001b[0;31mAttributeError\u001b[0m                            Traceback (most recent call last)",
            "\u001b[0;32m<ipython-input-41-0e797fa1d110>\u001b[0m in \u001b[0;36m<module>\u001b[0;34m()\u001b[0m\n\u001b[1;32m      1\u001b[0m \u001b[0msome_data\u001b[0m \u001b[0;34m=\u001b[0m \u001b[0mhousing\u001b[0m\u001b[0;34m.\u001b[0m\u001b[0miloc\u001b[0m\u001b[0;34m[\u001b[0m\u001b[0;34m:\u001b[0m\u001b[0;36m5\u001b[0m\u001b[0;34m]\u001b[0m \u001b[0;31m# dados para predizer\u001b[0m\u001b[0;34m\u001b[0m\u001b[0;34m\u001b[0m\u001b[0m\n\u001b[0;32m----> 2\u001b[0;31m \u001b[0msome_labels\u001b[0m \u001b[0;34m=\u001b[0m \u001b[0mhousing_labels\u001b[0m\u001b[0;34m.\u001b[0m\u001b[0miloc\u001b[0m\u001b[0;34m[\u001b[0m\u001b[0;34m:\u001b[0m\u001b[0;36m5\u001b[0m\u001b[0;34m]\u001b[0m \u001b[0;31m# rótulos dos dados acima\u001b[0m\u001b[0;34m\u001b[0m\u001b[0;34m\u001b[0m\u001b[0m\n\u001b[0m\u001b[1;32m      3\u001b[0m \u001b[0msome_data_prepared\u001b[0m \u001b[0;34m=\u001b[0m \u001b[0mfull_pipeline\u001b[0m\u001b[0;34m.\u001b[0m\u001b[0mtransform\u001b[0m\u001b[0;34m(\u001b[0m\u001b[0msome_data\u001b[0m\u001b[0;34m)\u001b[0m \u001b[0;31m# transformação dos dados (considerando que seu pipeline tenha esse nome)\u001b[0m\u001b[0;34m\u001b[0m\u001b[0;34m\u001b[0m\u001b[0m\n\u001b[1;32m      4\u001b[0m \u001b[0mprint\u001b[0m\u001b[0;34m(\u001b[0m\u001b[0;34m\"Predictions:\\t\"\u001b[0m\u001b[0;34m,\u001b[0m \u001b[0mlin_reg\u001b[0m\u001b[0;34m.\u001b[0m\u001b[0mpredict\u001b[0m\u001b[0;34m(\u001b[0m\u001b[0msome_data_prepared\u001b[0m\u001b[0;34m)\u001b[0m\u001b[0;34m)\u001b[0m \u001b[0;31m# predizendo\u001b[0m\u001b[0;34m\u001b[0m\u001b[0;34m\u001b[0m\u001b[0m\n\u001b[1;32m      5\u001b[0m \u001b[0mprint\u001b[0m\u001b[0;34m(\u001b[0m\u001b[0;34m\"Labels:\\t\\t\"\u001b[0m\u001b[0;34m,\u001b[0m \u001b[0mlist\u001b[0m\u001b[0;34m(\u001b[0m\u001b[0msome_labels\u001b[0m\u001b[0;34m)\u001b[0m\u001b[0;34m)\u001b[0m \u001b[0;31m# valores corretos\u001b[0m\u001b[0;34m\u001b[0m\u001b[0;34m\u001b[0m\u001b[0m\n",
            "\u001b[0;31mAttributeError\u001b[0m: 'numpy.ndarray' object has no attribute 'iloc'"
          ]
        }
      ]
    },
    {
      "cell_type": "markdown",
      "metadata": {
        "id": "Dkx6Yw2XeLzb",
        "colab_type": "text"
      },
      "source": [
        "### TODO 8: RMSE \n",
        "    11) Utilizando Scikit-Learn, extraia o RMSE das predições a partir da variável housing_prepared. "
      ]
    },
    {
      "cell_type": "code",
      "metadata": {
        "id": "_mcEOm89eLzc",
        "colab_type": "code",
        "colab": {}
      },
      "source": [
        "# resposta 11"
      ],
      "execution_count": 0,
      "outputs": []
    },
    {
      "cell_type": "code",
      "metadata": {
        "id": "1ZQt2A_wnRgL",
        "colab_type": "code",
        "colab": {}
      },
      "source": [
        "\n",
        "#feature_col = housing.iloc[:,0:6]\n",
        "#meta_col =  housing.iloc[:,7]\n",
        "\n",
        "X = feature_col.values\n",
        "y = meta_col.values"
      ],
      "execution_count": 0,
      "outputs": []
    }
  ]
}